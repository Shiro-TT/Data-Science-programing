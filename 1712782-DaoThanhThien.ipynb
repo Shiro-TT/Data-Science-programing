{
 "cells": [
  {
   "cell_type": "markdown",
   "metadata": {},
   "source": [
    "Họ và Tên: Đào Thanh Thiện\n",
    "\n",
    "MSSV: 1712782"
   ]
  },
  {
   "cell_type": "code",
   "execution_count": 1,
   "metadata": {},
   "outputs": [],
   "source": [
    "import numpy as np\n",
    "import pandas as pd\n",
    "import matplotlib.pyplot as plt"
   ]
  },
  {
   "cell_type": "markdown",
   "metadata": {},
   "source": [
    "**Đọc và tiền xữ lý dữ liệu**"
   ]
  },
  {
   "cell_type": "code",
   "execution_count": 2,
   "metadata": {},
   "outputs": [],
   "source": [
    "#Đọc dữ liệu\n",
    "data = pd.read_csv(\"Space_Corrected.csv\")\n",
    "df = data.copy()"
   ]
  },
  {
   "cell_type": "code",
   "execution_count": 3,
   "metadata": {},
   "outputs": [],
   "source": [
    "#Dữ liệu gốc đặt tên cột bị dư 1 dấu cách, ta chuyển về tên đúng để dễ làm việc hơn\n",
    "df.rename(columns={\" Rocket\": \"Rocket\"}, inplace = True)\n",
    "df.rename(columns={\"Status Rocket\": \"Status_Rocket\"}, inplace = True)\n",
    "df.rename(columns={\"Status Mission\": \"Status_Mission\"}, inplace = True)"
   ]
  },
  {
   "cell_type": "code",
   "execution_count": 4,
   "metadata": {},
   "outputs": [],
   "source": [
    "#Ta thấy dữ liệu có 2 cột \"Unnamed: 0\" và \"Unnamed: 0.1\" có cùng số giá trị với cột số thứ tự của pandas \n",
    "#nên ta tiến hành bỏ 2 cột này, để rút gọn dữ liệu\n",
    "df = df.drop([\"Unnamed: 0\", \"Unnamed: 0.1\"], axis = 1)\n",
    "\n",
    "#Cột Rocket có nhiều dữ liệu trống, ta đặt các dữ liệu này trở về 0\n",
    "df['Rocket'] = df['Rocket'].fillna(0)\n",
    "\n",
    "#Thêm cột Country, lấy dữ liệu từ cột location\n",
    "df['Country'] = df['Location'].apply(lambda x: x.strip().split(', ')[-1])"
   ]
  },
  {
   "cell_type": "code",
   "execution_count": 11,
   "metadata": {},
   "outputs": [
    {
     "data": {
      "text/html": [
       "<div>\n",
       "<style scoped>\n",
       "    .dataframe tbody tr th:only-of-type {\n",
       "        vertical-align: middle;\n",
       "    }\n",
       "\n",
       "    .dataframe tbody tr th {\n",
       "        vertical-align: top;\n",
       "    }\n",
       "\n",
       "    .dataframe thead th {\n",
       "        text-align: right;\n",
       "    }\n",
       "</style>\n",
       "<table border=\"1\" class=\"dataframe\">\n",
       "  <thead>\n",
       "    <tr style=\"text-align: right;\">\n",
       "      <th></th>\n",
       "      <th>Company Name</th>\n",
       "      <th>Location</th>\n",
       "      <th>Datum</th>\n",
       "      <th>Detail</th>\n",
       "      <th>Status_Rocket</th>\n",
       "      <th>Rocket</th>\n",
       "      <th>Status_Mission</th>\n",
       "      <th>Country</th>\n",
       "    </tr>\n",
       "  </thead>\n",
       "  <tbody>\n",
       "    <tr>\n",
       "      <th>0</th>\n",
       "      <td>SpaceX</td>\n",
       "      <td>LC-39A, Kennedy Space Center, Florida, USA</td>\n",
       "      <td>Fri Aug 07, 2020 05:12 UTC</td>\n",
       "      <td>Falcon 9 Block 5 | Starlink V1 L9 &amp; BlackSky</td>\n",
       "      <td>StatusActive</td>\n",
       "      <td>50.0</td>\n",
       "      <td>Success</td>\n",
       "      <td>USA</td>\n",
       "    </tr>\n",
       "    <tr>\n",
       "      <th>1</th>\n",
       "      <td>CASC</td>\n",
       "      <td>Site 9401 (SLS-2), Jiuquan Satellite Launch Ce...</td>\n",
       "      <td>Thu Aug 06, 2020 04:01 UTC</td>\n",
       "      <td>Long March 2D | Gaofen-9 04 &amp; Q-SAT</td>\n",
       "      <td>StatusActive</td>\n",
       "      <td>29.75</td>\n",
       "      <td>Success</td>\n",
       "      <td>China</td>\n",
       "    </tr>\n",
       "    <tr>\n",
       "      <th>2</th>\n",
       "      <td>SpaceX</td>\n",
       "      <td>Pad A, Boca Chica, Texas, USA</td>\n",
       "      <td>Tue Aug 04, 2020 23:57 UTC</td>\n",
       "      <td>Starship Prototype | 150 Meter Hop</td>\n",
       "      <td>StatusActive</td>\n",
       "      <td>0</td>\n",
       "      <td>Success</td>\n",
       "      <td>USA</td>\n",
       "    </tr>\n",
       "    <tr>\n",
       "      <th>3</th>\n",
       "      <td>Roscosmos</td>\n",
       "      <td>Site 200/39, Baikonur Cosmodrome, Kazakhstan</td>\n",
       "      <td>Thu Jul 30, 2020 21:25 UTC</td>\n",
       "      <td>Proton-M/Briz-M | Ekspress-80 &amp; Ekspress-103</td>\n",
       "      <td>StatusActive</td>\n",
       "      <td>65.0</td>\n",
       "      <td>Success</td>\n",
       "      <td>Kazakhstan</td>\n",
       "    </tr>\n",
       "    <tr>\n",
       "      <th>4</th>\n",
       "      <td>ULA</td>\n",
       "      <td>SLC-41, Cape Canaveral AFS, Florida, USA</td>\n",
       "      <td>Thu Jul 30, 2020 11:50 UTC</td>\n",
       "      <td>Atlas V 541 | Perseverance</td>\n",
       "      <td>StatusActive</td>\n",
       "      <td>145.0</td>\n",
       "      <td>Success</td>\n",
       "      <td>USA</td>\n",
       "    </tr>\n",
       "    <tr>\n",
       "      <th>...</th>\n",
       "      <td>...</td>\n",
       "      <td>...</td>\n",
       "      <td>...</td>\n",
       "      <td>...</td>\n",
       "      <td>...</td>\n",
       "      <td>...</td>\n",
       "      <td>...</td>\n",
       "      <td>...</td>\n",
       "    </tr>\n",
       "    <tr>\n",
       "      <th>4319</th>\n",
       "      <td>US Navy</td>\n",
       "      <td>LC-18A, Cape Canaveral AFS, Florida, USA</td>\n",
       "      <td>Wed Feb 05, 1958 07:33 UTC</td>\n",
       "      <td>Vanguard | Vanguard TV3BU</td>\n",
       "      <td>StatusRetired</td>\n",
       "      <td>0</td>\n",
       "      <td>Failure</td>\n",
       "      <td>USA</td>\n",
       "    </tr>\n",
       "    <tr>\n",
       "      <th>4320</th>\n",
       "      <td>AMBA</td>\n",
       "      <td>LC-26A, Cape Canaveral AFS, Florida, USA</td>\n",
       "      <td>Sat Feb 01, 1958 03:48 UTC</td>\n",
       "      <td>Juno I | Explorer 1</td>\n",
       "      <td>StatusRetired</td>\n",
       "      <td>0</td>\n",
       "      <td>Success</td>\n",
       "      <td>USA</td>\n",
       "    </tr>\n",
       "    <tr>\n",
       "      <th>4321</th>\n",
       "      <td>US Navy</td>\n",
       "      <td>LC-18A, Cape Canaveral AFS, Florida, USA</td>\n",
       "      <td>Fri Dec 06, 1957 16:44 UTC</td>\n",
       "      <td>Vanguard | Vanguard TV3</td>\n",
       "      <td>StatusRetired</td>\n",
       "      <td>0</td>\n",
       "      <td>Failure</td>\n",
       "      <td>USA</td>\n",
       "    </tr>\n",
       "    <tr>\n",
       "      <th>4322</th>\n",
       "      <td>RVSN USSR</td>\n",
       "      <td>Site 1/5, Baikonur Cosmodrome, Kazakhstan</td>\n",
       "      <td>Sun Nov 03, 1957 02:30 UTC</td>\n",
       "      <td>Sputnik 8K71PS | Sputnik-2</td>\n",
       "      <td>StatusRetired</td>\n",
       "      <td>0</td>\n",
       "      <td>Success</td>\n",
       "      <td>Kazakhstan</td>\n",
       "    </tr>\n",
       "    <tr>\n",
       "      <th>4323</th>\n",
       "      <td>RVSN USSR</td>\n",
       "      <td>Site 1/5, Baikonur Cosmodrome, Kazakhstan</td>\n",
       "      <td>Fri Oct 04, 1957 19:28 UTC</td>\n",
       "      <td>Sputnik 8K71PS | Sputnik-1</td>\n",
       "      <td>StatusRetired</td>\n",
       "      <td>0</td>\n",
       "      <td>Success</td>\n",
       "      <td>Kazakhstan</td>\n",
       "    </tr>\n",
       "  </tbody>\n",
       "</table>\n",
       "<p>4324 rows × 8 columns</p>\n",
       "</div>"
      ],
      "text/plain": [
       "     Company Name                                           Location  \\\n",
       "0          SpaceX         LC-39A, Kennedy Space Center, Florida, USA   \n",
       "1            CASC  Site 9401 (SLS-2), Jiuquan Satellite Launch Ce...   \n",
       "2          SpaceX                      Pad A, Boca Chica, Texas, USA   \n",
       "3       Roscosmos       Site 200/39, Baikonur Cosmodrome, Kazakhstan   \n",
       "4             ULA           SLC-41, Cape Canaveral AFS, Florida, USA   \n",
       "...           ...                                                ...   \n",
       "4319      US Navy           LC-18A, Cape Canaveral AFS, Florida, USA   \n",
       "4320         AMBA           LC-26A, Cape Canaveral AFS, Florida, USA   \n",
       "4321      US Navy           LC-18A, Cape Canaveral AFS, Florida, USA   \n",
       "4322    RVSN USSR          Site 1/5, Baikonur Cosmodrome, Kazakhstan   \n",
       "4323    RVSN USSR          Site 1/5, Baikonur Cosmodrome, Kazakhstan   \n",
       "\n",
       "                           Datum  \\\n",
       "0     Fri Aug 07, 2020 05:12 UTC   \n",
       "1     Thu Aug 06, 2020 04:01 UTC   \n",
       "2     Tue Aug 04, 2020 23:57 UTC   \n",
       "3     Thu Jul 30, 2020 21:25 UTC   \n",
       "4     Thu Jul 30, 2020 11:50 UTC   \n",
       "...                          ...   \n",
       "4319  Wed Feb 05, 1958 07:33 UTC   \n",
       "4320  Sat Feb 01, 1958 03:48 UTC   \n",
       "4321  Fri Dec 06, 1957 16:44 UTC   \n",
       "4322  Sun Nov 03, 1957 02:30 UTC   \n",
       "4323  Fri Oct 04, 1957 19:28 UTC   \n",
       "\n",
       "                                            Detail  Status_Rocket  Rocket  \\\n",
       "0     Falcon 9 Block 5 | Starlink V1 L9 & BlackSky   StatusActive   50.0    \n",
       "1              Long March 2D | Gaofen-9 04 & Q-SAT   StatusActive  29.75    \n",
       "2               Starship Prototype | 150 Meter Hop   StatusActive       0   \n",
       "3     Proton-M/Briz-M | Ekspress-80 & Ekspress-103   StatusActive   65.0    \n",
       "4                       Atlas V 541 | Perseverance   StatusActive  145.0    \n",
       "...                                            ...            ...     ...   \n",
       "4319                     Vanguard | Vanguard TV3BU  StatusRetired       0   \n",
       "4320                           Juno I | Explorer 1  StatusRetired       0   \n",
       "4321                       Vanguard | Vanguard TV3  StatusRetired       0   \n",
       "4322                    Sputnik 8K71PS | Sputnik-2  StatusRetired       0   \n",
       "4323                    Sputnik 8K71PS | Sputnik-1  StatusRetired       0   \n",
       "\n",
       "     Status_Mission     Country  \n",
       "0           Success         USA  \n",
       "1           Success       China  \n",
       "2           Success         USA  \n",
       "3           Success  Kazakhstan  \n",
       "4           Success         USA  \n",
       "...             ...         ...  \n",
       "4319        Failure         USA  \n",
       "4320        Success         USA  \n",
       "4321        Failure         USA  \n",
       "4322        Success  Kazakhstan  \n",
       "4323        Success  Kazakhstan  \n",
       "\n",
       "[4324 rows x 8 columns]"
      ]
     },
     "execution_count": 11,
     "metadata": {},
     "output_type": "execute_result"
    }
   ],
   "source": [
    "df"
   ]
  },
  {
   "cell_type": "code",
   "execution_count": 5,
   "metadata": {},
   "outputs": [
    {
     "name": "stdout",
     "output_type": "stream",
     "text": [
      "<class 'pandas.core.frame.DataFrame'>\n",
      "RangeIndex: 4324 entries, 0 to 4323\n",
      "Data columns (total 8 columns):\n",
      " #   Column          Non-Null Count  Dtype \n",
      "---  ------          --------------  ----- \n",
      " 0   Company Name    4324 non-null   object\n",
      " 1   Location        4324 non-null   object\n",
      " 2   Datum           4324 non-null   object\n",
      " 3   Detail          4324 non-null   object\n",
      " 4   Status_Rocket   4324 non-null   object\n",
      " 5   Rocket          4324 non-null   object\n",
      " 6   Status_Mission  4324 non-null   object\n",
      " 7   Country         4324 non-null   object\n",
      "dtypes: object(8)\n",
      "memory usage: 270.4+ KB\n"
     ]
    }
   ],
   "source": [
    "df.info()"
   ]
  },
  {
   "cell_type": "code",
   "execution_count": 7,
   "metadata": {},
   "outputs": [
    {
     "data": {
      "text/plain": [
       "<matplotlib.axes._subplots.AxesSubplot at 0x24f722109a0>"
      ]
     },
     "execution_count": 7,
     "metadata": {},
     "output_type": "execute_result"
    },
    {
     "data": {
      "image/png": "[encoded data removed]",
      "text/plain": [
       "<Figure size 720x360 with 1 Axes>"
      ]
     },
     "metadata": {
      "needs_background": "light"
     },
     "output_type": "display_data"
    }
   ],
   "source": [
    "df['Company Name'].value_counts().plot.bar(figsize=(10,5),title='Company Names')"
   ]
  },
  {
   "cell_type": "code",
   "execution_count": 13,
   "metadata": {},
   "outputs": [
    {
     "data": {
      "text/plain": [
       "RVSN USSR           1777\n",
       "Arianespace          279\n",
       "CASC                 251\n",
       "General Dynamics     251\n",
       "NASA                 203\n",
       "VKS RF               201\n",
       "US Air Force         161\n",
       "ULA                  140\n",
       "Boeing               136\n",
       "Martin Marietta      114\n",
       "SpaceX               100\n",
       "MHI                   84\n",
       "Northrop              83\n",
       "Lockheed              79\n",
       "ISRO                  76\n",
       "Roscosmos             55\n",
       "ILS                   46\n",
       "Sea Launch            36\n",
       "ISAS                  30\n",
       "Kosmotras             22\n",
       "US Navy               17\n",
       "ESA                   13\n",
       "Rocket Lab            13\n",
       "Eurockot              13\n",
       "ISA                   13\n",
       "Blue Origin           12\n",
       "IAI                   11\n",
       "ExPace                10\n",
       "ASI                    9\n",
       "CNES                   8\n",
       "AMBA                   8\n",
       "MITT                   7\n",
       "JAXA                   7\n",
       "Land Launch            7\n",
       "UT                     5\n",
       "KCST                   5\n",
       "CASIC                  5\n",
       "Exos                   4\n",
       "CECLES                 4\n",
       "Arm??e de l'Air        4\n",
       "SRC                    3\n",
       "KARI                   3\n",
       "AEB                    3\n",
       "RAE                    2\n",
       "OKB-586                2\n",
       "Yuzhmash               2\n",
       "Sandia                 1\n",
       "Douglas                1\n",
       "Khrunichev             1\n",
       "i-Space                1\n",
       "EER                    1\n",
       "OneSpace               1\n",
       "Starsem                1\n",
       "Virgin Orbit           1\n",
       "Landspace              1\n",
       "IRGC                   1\n",
       "Name: Company Name, dtype: int64"
      ]
     },
     "execution_count": 13,
     "metadata": {},
     "output_type": "execute_result"
    }
   ],
   "source": [
    "df['Company Name'].value_counts()"
   ]
  },
  {
   "cell_type": "code",
   "execution_count": 10,
   "metadata": {},
   "outputs": [
    {
     "data": {
      "text/plain": [
       "<matplotlib.axes._subplots.AxesSubplot at 0x24f722e4340>"
      ]
     },
     "execution_count": 10,
     "metadata": {},
     "output_type": "execute_result"
    },
    {
     "data": {
      "image/png": "[encoded data removed]",
      "text/plain": [
       "<Figure size 720x360 with 1 Axes>"
      ]
     },
     "metadata": {
      "needs_background": "light"
     },
     "output_type": "display_data"
    }
   ],
   "source": [
    "df['Country'].value_counts().plot.bar(figsize=(10,5),title='Country')"
   ]
  },
  {
   "cell_type": "code",
   "execution_count": null,
   "metadata": {},
   "outputs": [],
   "source": []
  }
 ],
 "metadata": {
  "kernelspec": {
   "display_name": "Python 3",
   "language": "python",
   "name": "python3"
  },
  "language_info": {
   "codemirror_mode": {
    "name": "ipython",
    "version": 3
   },
   "file_extension": ".py",
   "mimetype": "text/x-python",
   "name": "python",
   "nbconvert_exporter": "python",
   "pygments_lexer": "ipython3",
   "version": "3.8.3"
  }
 },
 "nbformat": 4,
 "nbformat_minor": 4
}
